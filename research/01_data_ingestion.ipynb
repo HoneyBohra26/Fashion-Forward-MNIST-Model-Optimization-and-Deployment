{
 "cells": [
  {
   "cell_type": "code",
   "execution_count": 1,
   "metadata": {},
   "outputs": [],
   "source": [
    "import os\n",
    "os.chdir('../')"
   ]
  },
  {
   "cell_type": "code",
   "execution_count": 2,
   "metadata": {},
   "outputs": [
    {
     "data": {
      "text/plain": [
       "'c:\\\\Users\\\\bohra\\\\Mnist_fashion_model'"
      ]
     },
     "execution_count": 2,
     "metadata": {},
     "output_type": "execute_result"
    }
   ],
   "source": [
    "%pwd"
   ]
  },
  {
   "cell_type": "code",
   "execution_count": 3,
   "metadata": {},
   "outputs": [],
   "source": [
    "from dataclasses import dataclass\n",
    "from pathlib import Path\n",
    "\n",
    "\n",
    "@dataclass(frozen=True)\n",
    "class DataIngestionConfig:\n",
    "    root_dir: Path\n",
    "    train_data: Path\n",
    "    test_data: Path\n",
    "    param_batchsize: int"
   ]
  },
  {
   "cell_type": "code",
   "execution_count": 4,
   "metadata": {},
   "outputs": [],
   "source": [
    "from cnnClassifier.constants import *\n",
    "from cnnClassifier.utils.common import  create_directories,read_yaml, transform_train,transform_test"
   ]
  },
  {
   "cell_type": "code",
   "execution_count": 5,
   "metadata": {},
   "outputs": [],
   "source": [
    "class ConfigurationManager:\n",
    "    def __init__(\n",
    "        self,\n",
    "        config_filepath = CONFIG_FILE_PATH,\n",
    "        params_filepath = PARAMS_FILE_PATH):\n",
    "\n",
    "        self.config = read_yaml(config_filepath)\n",
    "        self.params = read_yaml(params_filepath)\n",
    "\n",
    "        create_directories([self.config.artifacts_root])\n",
    "\n",
    "\n",
    "    \n",
    "    def get_data_ingestion_config(self) -> DataIngestionConfig:\n",
    "        config = self.config.data_ingestion\n",
    "        params = self.params \n",
    "        create_directories([config.root_dir])\n",
    "\n",
    "        data_ingestion_config = DataIngestionConfig(\n",
    "            root_dir=config.root_dir,\n",
    "            train_data=config.train_data,\n",
    "            test_data=config.test_data, \n",
    "            param_batchsize=params.batch_size\n",
    "        )\n",
    "\n",
    "        return data_ingestion_config"
   ]
  },
  {
   "cell_type": "code",
   "execution_count": 6,
   "metadata": {},
   "outputs": [],
   "source": [
    "import os\n",
    "from cnnClassifier import logger\n",
    "from cnnClassifier.utils.common import get_size\n",
    "from torch.utils.data import Dataset, DataLoader\n",
    "import torchvision\n",
    "import torch"
   ]
  },
  {
   "cell_type": "code",
   "execution_count": 9,
   "metadata": {},
   "outputs": [],
   "source": [
    "class DataIngestion:\n",
    "    def __init__(self, config: DataIngestionConfig):\n",
    "        self.config = config\n",
    "\n",
    "    \n",
    "    def download_file(self)-> str:\n",
    "\n",
    "        try: \n",
    "            train_data=self.config.train_data\n",
    "            test_data=self.config.test_data \n",
    "            os.makedirs(\"artifacts/data_ingestion\", exist_ok=True)\n",
    "            logger.info(f\"Downloading data from {torchvision.datasets} into folder {train_data},{test_data}\")\n",
    "\n",
    "            torchvision.datasets.FashionMNIST(train_data, download=True,transform=transform_train)\n",
    "            torchvision.datasets.FashionMNIST(test_data, download=True, train=False, transform=transform_test)\n",
    "\n",
    "            logger.info(f\"Downloaded data from {torchvision.datasets} into folder {train_data},{test_data}\")\n",
    "\n",
    "        except Exception as e:\n",
    "            raise e\n",
    "         \n",
    "        \n"
   ]
  },
  {
   "cell_type": "code",
   "execution_count": 11,
   "metadata": {},
   "outputs": [
    {
     "name": "stdout",
     "output_type": "stream",
     "text": [
      "[2024-07-22 17:27:55,240: INFO: common: yaml file: config\\config.yaml loaded successfully]\n",
      "[2024-07-22 17:27:55,240: INFO: common: yaml file: params.yaml loaded successfully]\n",
      "[2024-07-22 17:27:55,240: INFO: common: created directory at: artifacts]\n",
      "[2024-07-22 17:27:55,247: INFO: common: created directory at: artifacts/data_ingestion]\n",
      "[2024-07-22 17:27:55,247: INFO: 1229694527: Downloading data from <module 'torchvision.datasets' from 'c:\\\\Users\\\\bohra\\\\anaconda3\\\\envs\\\\honey_mnist\\\\lib\\\\site-packages\\\\torchvision\\\\datasets\\\\__init__.py'> into folder artifacts/data_ingestion/train_data,artifacts/data_ingestion/test_data]\n",
      "[2024-07-22 17:27:55,304: INFO: 1229694527: <torch.utils.data.dataloader.DataLoader object at 0x000001DA1881FE50>]\n",
      "[2024-07-22 17:27:55,304: INFO: 1229694527: Downloaded data from <module 'torchvision.datasets' from 'c:\\\\Users\\\\bohra\\\\anaconda3\\\\envs\\\\honey_mnist\\\\lib\\\\site-packages\\\\torchvision\\\\datasets\\\\__init__.py'> into folder artifacts/data_ingestion/train_data,artifacts/data_ingestion/test_data]\n"
     ]
    }
   ],
   "source": [
    "try:\n",
    "    config = ConfigurationManager()\n",
    "    data_ingestion_config = config.get_data_ingestion_config()\n",
    "    data_ingestion = DataIngestion(config=data_ingestion_config)\n",
    "    data_ingestion.download_file()\n",
    "    #data_ingestion.train_val_split()\n",
    "\n",
    "except Exception as e:\n",
    "    raise e"
   ]
  },
  {
   "cell_type": "code",
   "execution_count": null,
   "metadata": {},
   "outputs": [],
   "source": []
  },
  {
   "cell_type": "code",
   "execution_count": null,
   "metadata": {},
   "outputs": [],
   "source": []
  },
  {
   "cell_type": "code",
   "execution_count": null,
   "metadata": {},
   "outputs": [],
   "source": []
  }
 ],
 "metadata": {
  "kernelspec": {
   "display_name": "FASHION_MODEL",
   "language": "python",
   "name": "python3"
  },
  "language_info": {
   "codemirror_mode": {
    "name": "ipython",
    "version": 3
   },
   "file_extension": ".py",
   "mimetype": "text/x-python",
   "name": "python",
   "nbconvert_exporter": "python",
   "pygments_lexer": "ipython3",
   "version": "3.8.19"
  }
 },
 "nbformat": 4,
 "nbformat_minor": 2
}
